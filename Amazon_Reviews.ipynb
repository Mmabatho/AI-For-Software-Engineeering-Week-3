{
  "metadata": {
    "kernelspec": {
      "language": "python",
      "display_name": "Python 3",
      "name": "python3"
    },
    "language_info": {
      "pygments_lexer": "ipython3",
      "nbconvert_exporter": "python",
      "version": "3.6.4",
      "file_extension": ".py",
      "codemirror_mode": {
        "name": "ipython",
        "version": 3
      },
      "name": "python",
      "mimetype": "text/x-python"
    },
    "kaggle": {
      "accelerator": "gpu",
      "dataSources": [
        {
          "sourceId": 800230,
          "sourceType": "datasetVersion",
          "datasetId": 1305
        }
      ],
      "isInternetEnabled": true,
      "language": "python",
      "sourceType": "notebook",
      "isGpuEnabled": true
    },
    "colab": {
      "provenance": [],
      "include_colab_link": true
    }
  },
  "nbformat_minor": 0,
  "nbformat": 4,
  "cells": [
    {
      "cell_type": "markdown",
      "metadata": {
        "id": "view-in-github",
        "colab_type": "text"
      },
      "source": [
        "<a href=\"https://colab.research.google.com/github/Mmabatho/AI-For-Software-Engineeering-Week-3/blob/brian/Amazon_Reviews.ipynb\" target=\"_parent\"><img src=\"https://colab.research.google.com/assets/colab-badge.svg\" alt=\"Open In Colab\"/></a>"
      ]
    },
    {
      "cell_type": "code",
      "source": [
        "from google.colab import drive\n",
        "drive.mount('/content/drive')"
      ],
      "metadata": {
        "id": "Ceve_c7Mn1fx",
        "colab": {
          "base_uri": "https://localhost:8080/"
        },
        "outputId": "0ddeb510-6b79-49f9-bbec-32a96db019b1"
      },
      "execution_count": 1,
      "outputs": [
        {
          "output_type": "stream",
          "name": "stdout",
          "text": [
            "Mounted at /content/drive\n"
          ]
        }
      ]
    },
    {
      "source": [
        "# IMPORTANT: RUN THIS CELL IN ORDER TO IMPORT YOUR KAGGLE DATA SOURCES,\n",
        "# THEN FEEL FREE TO DELETE THIS CELL.\n",
        "# NOTE: THIS NOTEBOOK ENVIRONMENT DIFFERS FROM KAGGLE'S PYTHON\n",
        "# ENVIRONMENT SO THERE MAY BE MISSING LIBRARIES USED BY YOUR\n",
        "# NOTEBOOK.\n",
        "import kagglehub\n",
        "bittlingmayer_amazonreviews_path = kagglehub.dataset_download('bittlingmayer/amazonreviews')\n",
        "\n",
        "print('Data source import complete.')\n"
      ],
      "metadata": {
        "id": "zkUhTQm7nO39",
        "colab": {
          "base_uri": "https://localhost:8080/"
        },
        "outputId": "0441a373-e1a1-4dca-fac3-61f4bd8dbd2e"
      },
      "cell_type": "code",
      "outputs": [
        {
          "output_type": "stream",
          "name": "stdout",
          "text": [
            "Downloading from https://www.kaggle.com/api/v1/datasets/download/bittlingmayer/amazonreviews?dataset_version_number=7...\n"
          ]
        },
        {
          "output_type": "stream",
          "name": "stderr",
          "text": [
            "100%|██████████| 493M/493M [00:05<00:00, 98.3MB/s]"
          ]
        },
        {
          "output_type": "stream",
          "name": "stdout",
          "text": [
            "Extracting files...\n"
          ]
        },
        {
          "output_type": "stream",
          "name": "stderr",
          "text": [
            "\n"
          ]
        },
        {
          "output_type": "stream",
          "name": "stdout",
          "text": [
            "Data source import complete.\n"
          ]
        }
      ],
      "execution_count": 2
    },
    {
      "cell_type": "code",
      "source": [
        "# Checking the path\n",
        "bittlingmayer_amazonreviews_path"
      ],
      "metadata": {
        "colab": {
          "base_uri": "https://localhost:8080/",
          "height": 36
        },
        "id": "ahuvYq4b3CnD",
        "outputId": "5db3e00a-f132-47de-a622-59b5f6eabd6a"
      },
      "execution_count": 6,
      "outputs": [
        {
          "output_type": "execute_result",
          "data": {
            "text/plain": [
              "'/root/.cache/kagglehub/datasets/bittlingmayer/amazonreviews/versions/7'"
            ],
            "application/vnd.google.colaboratory.intrinsic+json": {
              "type": "string"
            }
          },
          "metadata": {},
          "execution_count": 6
        }
      ]
    },
    {
      "cell_type": "code",
      "source": [
        "# Show files in the path\n",
        "print(os.listdir(bittlingmayer_amazonreviews_path))"
      ],
      "metadata": {
        "colab": {
          "base_uri": "https://localhost:8080/"
        },
        "id": "psGh2mnj3MB7",
        "outputId": "bcd95e8d-9e06-4c06-bbd9-7b8ea590ffae"
      },
      "execution_count": 7,
      "outputs": [
        {
          "output_type": "stream",
          "name": "stdout",
          "text": [
            "['train.ft.txt.bz2', 'test.ft.txt.bz2']\n"
          ]
        }
      ]
    },
    {
      "cell_type": "code",
      "source": [
        "import spacy\n",
        "import pandas as pd\n",
        "import nltk\n",
        "import matplotlib.pyplot as plt\n",
        "import seaborn as sns\n",
        "import numpy as np\n",
        "import re\n",
        "import string\n",
        "from nltk.corpus import stopwords\n",
        "from nltk.tokenize import word_tokenize\n",
        "from nltk.stem import PorterStemmer\n",
        "from nltk.stem import WordNetLemmatizer\n",
        "import os\n",
        "import bz2"
      ],
      "metadata": {
        "id": "6uSZtTwDvmTv"
      },
      "execution_count": 8,
      "outputs": []
    },
    {
      "cell_type": "code",
      "source": [
        "train_path = '/content/drive/MyDrive/amazonreviews_data/train.ft.txt.bz2'\n",
        "test_path = '/content/drive/MyDrive/amazonreviews_data/test.ft.txt.bz2'\n",
        "\n",
        "def load_data(file_path):\n",
        "    texts = []\n",
        "    labels = []\n",
        "    with bz2.open(file_path, 'rt', encoding='utf-8') as f:\n",
        "        for line in f:\n",
        "            # if the format is __label__X followed by the review text\n",
        "            label = int(line[9]) - 1  # Adjust label to be 0 or 1 (for __label__1 and __label__2)\n",
        "            text = line[11:].strip()\n",
        "            texts.append(text)\n",
        "            labels.append(label)\n",
        "    return pd.DataFrame({'text': texts, 'label': labels})"
      ],
      "metadata": {
        "id": "FcxILzuYwU_8"
      },
      "execution_count": 9,
      "outputs": []
    },
    {
      "cell_type": "code",
      "source": [
        "train_df = load_data(train_path)\n",
        "test_df = load_data(test_path)\n",
        "\n",
        "print(\"Train DataFrame head:\")\n",
        "print(train_df.head())\n",
        "print(\"\\nTest DataFrame head:\")\n",
        "print(test_df.head())"
      ],
      "metadata": {
        "colab": {
          "base_uri": "https://localhost:8080/"
        },
        "id": "0PVIBKQW4hbA",
        "outputId": "25428d1e-410e-40dd-d436-28f19e336548"
      },
      "execution_count": 10,
      "outputs": [
        {
          "output_type": "stream",
          "name": "stdout",
          "text": [
            "Train DataFrame head:\n",
            "                                                text  label\n",
            "0  Stuning even for the non-gamer: This sound tra...      1\n",
            "1  The best soundtrack ever to anything.: I'm rea...      1\n",
            "2  Amazing!: This soundtrack is my favorite music...      1\n",
            "3  Excellent Soundtrack: I truly like this soundt...      1\n",
            "4  Remember, Pull Your Jaw Off The Floor After He...      1\n",
            "\n",
            "Test DataFrame head:\n",
            "                                                text  label\n",
            "0  Great CD: My lovely Pat has one of the GREAT v...      1\n",
            "1  One of the best game music soundtracks - for a...      1\n",
            "2  Batteries died within a year ...: I bought thi...      0\n",
            "3  works fine, but Maha Energy is better: Check o...      1\n",
            "4  Great for the non-audiophile: Reviewed quite a...      1\n"
          ]
        }
      ]
    },
    {
      "cell_type": "code",
      "source": [],
      "metadata": {
        "id": "UlmIbwV_5id9"
      },
      "execution_count": null,
      "outputs": []
    }
  ]
}