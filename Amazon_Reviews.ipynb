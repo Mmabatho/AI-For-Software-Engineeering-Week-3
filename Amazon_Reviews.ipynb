{
  "metadata": {
    "kernelspec": {
      "language": "python",
      "display_name": "Python 3",
      "name": "python3"
    },
    "language_info": {
      "pygments_lexer": "ipython3",
      "nbconvert_exporter": "python",
      "version": "3.6.4",
      "file_extension": ".py",
      "codemirror_mode": {
        "name": "ipython",
        "version": 3
      },
      "name": "python",
      "mimetype": "text/x-python"
    },
    "kaggle": {
      "accelerator": "gpu",
      "dataSources": [
        {
          "sourceId": 800230,
          "sourceType": "datasetVersion",
          "datasetId": 1305
        }
      ],
      "isInternetEnabled": true,
      "language": "python",
      "sourceType": "notebook",
      "isGpuEnabled": true
    },
    "colab": {
      "name": "Amazon Reviews",
      "provenance": [],
      "include_colab_link": true
    }
  },
  "nbformat_minor": 0,
  "nbformat": 4,
  "cells": [
    {
      "cell_type": "markdown",
      "metadata": {
        "id": "view-in-github",
        "colab_type": "text"
      },
      "source": [
        "<a href=\"https://colab.research.google.com/github/Mmabatho/AI-For-Software-Engineeering-Week-3/blob/brian/Amazon_Reviews.ipynb\" target=\"_parent\"><img src=\"https://colab.research.google.com/assets/colab-badge.svg\" alt=\"Open In Colab\"/></a>"
      ]
    },
    {
      "cell_type": "markdown",
      "source": [
        "### Downloading Amazon Review Data from Kaggle"
      ],
      "metadata": {
        "id": "GkB8MezA8MY_"
      }
    },
    {
      "source": [
        "# IMPORTANT: RUN THIS CELL IN ORDER TO IMPORT YOUR KAGGLE DATA SOURCES,\n",
        "# THEN FEEL FREE TO DELETE THIS CELL.\n",
        "# NOTE: THIS NOTEBOOK ENVIRONMENT DIFFERS FROM KAGGLE'S PYTHON\n",
        "# ENVIRONMENT SO THERE MAY BE MISSING LIBRARIES USED BY YOUR\n",
        "# NOTEBOOK.\n",
        "import kagglehub\n",
        "bittlingmayer_amazonreviews_path = kagglehub.dataset_download('bittlingmayer/amazonreviews')\n",
        "\n",
        "print('Data source import complete.')\n"
      ],
      "metadata": {
        "colab": {
          "base_uri": "https://localhost:8080/"
        },
        "id": "q_oMbZzB5wc0",
        "outputId": "8be064a1-836d-483f-e8f3-7906ac9fb442"
      },
      "cell_type": "code",
      "outputs": [
        {
          "output_type": "stream",
          "name": "stdout",
          "text": [
            "Downloading from https://www.kaggle.com/api/v1/datasets/download/bittlingmayer/amazonreviews?dataset_version_number=7...\n"
          ]
        },
        {
          "output_type": "stream",
          "name": "stderr",
          "text": [
            "100%|██████████| 493M/493M [00:07<00:00, 69.2MB/s]"
          ]
        },
        {
          "output_type": "stream",
          "name": "stdout",
          "text": [
            "Extracting files...\n"
          ]
        },
        {
          "output_type": "stream",
          "name": "stderr",
          "text": [
            "\n"
          ]
        },
        {
          "output_type": "stream",
          "name": "stdout",
          "text": [
            "Data source import complete.\n"
          ]
        }
      ],
      "execution_count": 1
    },
    {
      "cell_type": "code",
      "source": [
        "# Checking the path\n",
        "bittlingmayer_amazonreviews_path"
      ],
      "metadata": {
        "colab": {
          "base_uri": "https://localhost:8080/",
          "height": 36
        },
        "id": "oT8SBbEq7uDD",
        "outputId": "0163f5e5-d8aa-4379-f546-25bbc503dab2"
      },
      "execution_count": 8,
      "outputs": [
        {
          "output_type": "execute_result",
          "data": {
            "text/plain": [
              "'/root/.cache/kagglehub/datasets/bittlingmayer/amazonreviews/versions/7'"
            ],
            "application/vnd.google.colaboratory.intrinsic+json": {
              "type": "string"
            }
          },
          "metadata": {},
          "execution_count": 8
        }
      ]
    },
    {
      "cell_type": "markdown",
      "source": [
        "### Importing necessary libraries"
      ],
      "metadata": {
        "id": "LVk2pqkH8Fzi"
      }
    },
    {
      "cell_type": "code",
      "source": [
        "import spacy\n",
        "import pandas as pd\n",
        "import nltk\n",
        "import matplotlib.pyplot as plt\n",
        "import seaborn as sns\n",
        "import numpy as np\n",
        "import re\n",
        "import string\n",
        "from nltk.corpus import stopwords\n",
        "from nltk.tokenize import word_tokenize\n",
        "from nltk.stem import PorterStemmer\n",
        "from nltk.stem import WordNetLemmatizer\n",
        "import os\n",
        "import bz2"
      ],
      "metadata": {
        "id": "qwlqh-UU8E2B"
      },
      "execution_count": 9,
      "outputs": []
    },
    {
      "cell_type": "code",
      "source": [
        "# Show files in the path\n",
        "print(os.listdir(bittlingmayer_amazonreviews_path))"
      ],
      "metadata": {
        "colab": {
          "base_uri": "https://localhost:8080/"
        },
        "id": "cINxLP0K7z_T",
        "outputId": "f2b08f7d-527d-4c12-85d8-e4aea1e8d17f"
      },
      "execution_count": 7,
      "outputs": [
        {
          "output_type": "stream",
          "name": "stdout",
          "text": [
            "['test.ft.txt.bz2', 'train.ft.txt.bz2']\n"
          ]
        }
      ]
    },
    {
      "cell_type": "markdown",
      "source": [
        "### Loading the datasets into DataFrames"
      ],
      "metadata": {
        "id": "25-NL967FmFG"
      }
    },
    {
      "cell_type": "code",
      "source": [
        "# Extracting data from the file paths\n",
        "def extractData(filename):\n",
        "    data = []\n",
        "    with bz2.open(filename, 'rt', encoding='utf-8') as f:\n",
        "        for line in f:\n",
        "            parts = line.strip().split(' ', 1)\n",
        "            if len(parts) == 2:\n",
        "                label, text = parts\n",
        "                data.append((label, text))\n",
        "    df = pd.DataFrame(data, columns=['label', 'text'])\n",
        "    df['label'] = df['label'].str.extract(r'__label__(\\d+)').astype(int) # Fix the regex to correctly extract the digit\n",
        "    return df\n",
        "\n",
        "train_file = os.path.join(bittlingmayer_amazonreviews_path, 'train.ft.txt.bz2')\n",
        "test_file = os.path.join(bittlingmayer_amazonreviews_path, 'test.ft.txt.bz2')\n",
        "\n",
        "train_df = extractData(train_file)\n",
        "test_df = extractData(test_file)\n",
        "\n",
        "print(\"Train DataFrame head:\")\n",
        "print(train_df.head())\n",
        "print(\"\\nTest DataFrame head:\")\n",
        "print(test_df.head())"
      ],
      "metadata": {
        "colab": {
          "base_uri": "https://localhost:8080/"
        },
        "id": "cpNGwj8e8B7F",
        "outputId": "7eda2480-5dd3-4f98-e25d-74bf7217a2e4"
      },
      "execution_count": 10,
      "outputs": [
        {
          "output_type": "stream",
          "name": "stdout",
          "text": [
            "Train DataFrame head:\n",
            "   label                                               text\n",
            "0      2  Stuning even for the non-gamer: This sound tra...\n",
            "1      2  The best soundtrack ever to anything.: I'm rea...\n",
            "2      2  Amazing!: This soundtrack is my favorite music...\n",
            "3      2  Excellent Soundtrack: I truly like this soundt...\n",
            "4      2  Remember, Pull Your Jaw Off The Floor After He...\n",
            "\n",
            "Test DataFrame head:\n",
            "   label                                               text\n",
            "0      2  Great CD: My lovely Pat has one of the GREAT v...\n",
            "1      2  One of the best game music soundtracks - for a...\n",
            "2      1  Batteries died within a year ...: I bought thi...\n",
            "3      2  works fine, but Maha Energy is better: Check o...\n",
            "4      2  Great for the non-audiophile: Reviewed quite a...\n"
          ]
        }
      ]
    },
    {
      "cell_type": "markdown",
      "source": [
        "### Data Preliminaries"
      ],
      "metadata": {
        "id": "T1P1LKrXFfWL"
      }
    },
    {
      "cell_type": "code",
      "source": [
        "# Check the info of the dataframes\n",
        "train_df.info()"
      ],
      "metadata": {
        "id": "aoexdNOHF-Zi",
        "outputId": "d2d9d443-cdbc-4af8-abc7-f0008781774c",
        "colab": {
          "base_uri": "https://localhost:8080/"
        }
      },
      "execution_count": 15,
      "outputs": [
        {
          "output_type": "stream",
          "name": "stdout",
          "text": [
            "<class 'pandas.core.frame.DataFrame'>\n",
            "RangeIndex: 3600000 entries, 0 to 3599999\n",
            "Data columns (total 2 columns):\n",
            " #   Column  Dtype \n",
            "---  ------  ----- \n",
            " 0   label   int64 \n",
            " 1   text    object\n",
            "dtypes: int64(1), object(1)\n",
            "memory usage: 54.9+ MB\n"
          ]
        }
      ]
    },
    {
      "cell_type": "code",
      "source": [
        "train_df['label'].value_counts()"
      ],
      "metadata": {
        "colab": {
          "base_uri": "https://localhost:8080/",
          "height": 178
        },
        "id": "--A6e7udBn04",
        "outputId": "d0a6a34c-fe00-4136-d15c-6ca33b01cd9b"
      },
      "execution_count": 11,
      "outputs": [
        {
          "output_type": "execute_result",
          "data": {
            "text/plain": [
              "label\n",
              "2    1800000\n",
              "1    1800000\n",
              "Name: count, dtype: int64"
            ],
            "text/html": [
              "<div>\n",
              "<style scoped>\n",
              "    .dataframe tbody tr th:only-of-type {\n",
              "        vertical-align: middle;\n",
              "    }\n",
              "\n",
              "    .dataframe tbody tr th {\n",
              "        vertical-align: top;\n",
              "    }\n",
              "\n",
              "    .dataframe thead th {\n",
              "        text-align: right;\n",
              "    }\n",
              "</style>\n",
              "<table border=\"1\" class=\"dataframe\">\n",
              "  <thead>\n",
              "    <tr style=\"text-align: right;\">\n",
              "      <th></th>\n",
              "      <th>count</th>\n",
              "    </tr>\n",
              "    <tr>\n",
              "      <th>label</th>\n",
              "      <th></th>\n",
              "    </tr>\n",
              "  </thead>\n",
              "  <tbody>\n",
              "    <tr>\n",
              "      <th>2</th>\n",
              "      <td>1800000</td>\n",
              "    </tr>\n",
              "    <tr>\n",
              "      <th>1</th>\n",
              "      <td>1800000</td>\n",
              "    </tr>\n",
              "  </tbody>\n",
              "</table>\n",
              "</div><br><label><b>dtype:</b> int64</label>"
            ]
          },
          "metadata": {},
          "execution_count": 11
        }
      ]
    },
    {
      "cell_type": "code",
      "source": [
        "test_df['label'].value_counts()"
      ],
      "metadata": {
        "id": "34XvK9RgFKgJ",
        "outputId": "6313c71e-f336-4c21-cb1f-743cc1db4fc2",
        "colab": {
          "base_uri": "https://localhost:8080/",
          "height": 178
        }
      },
      "execution_count": 12,
      "outputs": [
        {
          "output_type": "execute_result",
          "data": {
            "text/plain": [
              "label\n",
              "2    200000\n",
              "1    200000\n",
              "Name: count, dtype: int64"
            ],
            "text/html": [
              "<div>\n",
              "<style scoped>\n",
              "    .dataframe tbody tr th:only-of-type {\n",
              "        vertical-align: middle;\n",
              "    }\n",
              "\n",
              "    .dataframe tbody tr th {\n",
              "        vertical-align: top;\n",
              "    }\n",
              "\n",
              "    .dataframe thead th {\n",
              "        text-align: right;\n",
              "    }\n",
              "</style>\n",
              "<table border=\"1\" class=\"dataframe\">\n",
              "  <thead>\n",
              "    <tr style=\"text-align: right;\">\n",
              "      <th></th>\n",
              "      <th>count</th>\n",
              "    </tr>\n",
              "    <tr>\n",
              "      <th>label</th>\n",
              "      <th></th>\n",
              "    </tr>\n",
              "  </thead>\n",
              "  <tbody>\n",
              "    <tr>\n",
              "      <th>2</th>\n",
              "      <td>200000</td>\n",
              "    </tr>\n",
              "    <tr>\n",
              "      <th>1</th>\n",
              "      <td>200000</td>\n",
              "    </tr>\n",
              "  </tbody>\n",
              "</table>\n",
              "</div><br><label><b>dtype:</b> int64</label>"
            ]
          },
          "metadata": {},
          "execution_count": 12
        }
      ]
    },
    {
      "cell_type": "code",
      "source": [
        "# Checking for duplicates in the dataframes\n",
        "train_df.duplicated().sum()"
      ],
      "metadata": {
        "id": "ilbJygktFRRN",
        "outputId": "00a6fed5-1208-4857-e730-39f04f348f5a",
        "colab": {
          "base_uri": "https://localhost:8080/"
        }
      },
      "execution_count": 14,
      "outputs": [
        {
          "output_type": "execute_result",
          "data": {
            "text/plain": [
              "np.int64(0)"
            ]
          },
          "metadata": {},
          "execution_count": 14
        }
      ]
    },
    {
      "cell_type": "markdown",
      "source": [
        "### Named Entity Recognition (NER)"
      ],
      "metadata": {
        "id": "bF-4NKKHG5Yw"
      }
    },
    {
      "cell_type": "code",
      "source": [
        "nlp = spacy.load(\"en_core_web_sm\")\n",
        "\n",
        "def extract_entities(text):\n",
        "  doc = nlp(text)\n",
        "  entities = {}\n",
        "  for ent in doc.ents:\n",
        "    if ent.label_ in [\"PRODUCT\", \"ORG\"]: # ORG often captures brand names\n",
        "      if ent.label_ not in entities:\n",
        "        entities[ent.label_] = []\n",
        "      entities[ent.label_].append(ent.text)\n",
        "  return entities\n",
        "\n",
        "# Apply NER to a sample of the training data\n",
        "# Processing the entire dataset might be slow, so we'll process a smaller portion.\n",
        "sample_size = 20000\n",
        "train_df_sample = train_df.sample(n=sample_size, random_state=42).copy() # Use .copy() to avoid SettingWithCopyWarning\n",
        "train_df_sample['entities'] = train_df_sample['text'].apply(extract_entities)\n",
        "\n",
        "print(\"\\nSample DataFrame with extracted entities:\")\n",
        "print(train_df_sample.head())"
      ],
      "metadata": {
        "id": "VFX5jNawFZXr",
        "outputId": "81be4c9c-4790-4d61-8aef-f053dfdfb8ad",
        "colab": {
          "base_uri": "https://localhost:8080/"
        }
      },
      "execution_count": 16,
      "outputs": [
        {
          "output_type": "stream",
          "name": "stdout",
          "text": [
            "\n",
            "Sample DataFrame with extracted entities:\n",
            "         label                                               text  \\\n",
            "2079998      1  Expensive Junk: This product consists of a pie...   \n",
            "1443106      1  Toast too dark: Even on the lowest setting, th...   \n",
            "3463669      2  Excellent imagery...dumbed down story: I enjoy...   \n",
            "2914699      1  Are we pretending everyone is married?: The au...   \n",
            "1603231      1  Not worth your time: Might as well just use a ...   \n",
            "\n",
            "                              entities  \n",
            "2079998  {'ORG': ['Velcro', 'Amazon']}  \n",
            "1443106         {'ORG': ['Cuisinart']}  \n",
            "3463669                             {}  \n",
            "2914699                             {}  \n",
            "1603231                             {}  \n"
          ]
        }
      ]
    },
    {
      "cell_type": "code",
      "source": [],
      "metadata": {
        "id": "OvX2GqD9HhfH"
      },
      "execution_count": null,
      "outputs": []
    }
  ]
}